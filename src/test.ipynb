{
 "cells": [
  {
   "cell_type": "code",
   "execution_count": 3,
   "metadata": {},
   "outputs": [],
   "source": [
    "import os\n",
    "from neo4j import GraphDatabase\n",
    "from neo4j_graphrag.retrievers import VectorRetriever\n",
    "from neo4j_graphrag.llm import OpenAILLM\n",
    "from neo4j_graphrag.embeddings import OpenAIEmbeddings\n",
    "from neo4j_graphrag.generation import GraphRAG\n",
    "# from neo4j_graphrag.indexes import create_vector_index\n",
    "\n",
    "from dotenv import load_dotenv\n",
    "\n",
    "load_dotenv()\n",
    "\n",
    "URI = os.getenv(\"NEO4J_URI\")\n",
    "AUTH = (os.getenv(\"NEO4J_USER\"), os.getenv(\"NEO4J_PASSWORD\"))\n",
    "\n",
    "driver = GraphDatabase.driver(URI, auth=AUTH)\n"
   ]
  },
  {
   "cell_type": "code",
   "execution_count": 2,
   "metadata": {},
   "outputs": [],
   "source": [
    "INDEX_NAME = \"graphrag-vector-index\"\n",
    "\n",
    "# create_vector_index(\n",
    "#     driver,\n",
    "#     INDEX_NAME,\n",
    "#     label=\"Document\",\n",
    "#     embedding_property=\"vectorProperty\",\n",
    "#     dimensions=1536,\n",
    "#     similarity_fn=\"cosine\",\n",
    "# )\n"
   ]
  },
  {
   "cell_type": "code",
   "execution_count": 8,
   "metadata": {},
   "outputs": [
    {
     "name": "stdout",
     "output_type": "stream",
     "text": [
      "answer='Paris' retriever_result=None\n"
     ]
    }
   ],
   "source": [
    "embeddings = OpenAIEmbeddings(model=\"text-embedding-3-small\")\n",
    "llm = OpenAILLM(model_name=\"tulu3\", base_url=\"http://localhost:11434/v1\")\n",
    "retriever = VectorRetriever(driver, INDEX_NAME, embeddings)\n",
    "rag = GraphRAG(retriever, llm)\n",
    "\n",
    "print(rag.search(\"What is the capital of France?\"))\n"
   ]
  },
  {
   "cell_type": "code",
   "execution_count": 9,
   "metadata": {},
   "outputs": [
    {
     "name": "stdout",
     "output_type": "stream",
     "text": [
      "Answer the user question using the following context\n",
      "\n",
      "Context:\n",
      "{context}\n",
      "\n",
      "Examples:\n",
      "{examples}\n",
      "\n",
      "Question:\n",
      "{query_text}\n",
      "\n",
      "Answer:\n",
      "\n"
     ]
    }
   ],
   "source": [
    "print(rag.prompt_template.template)\n"
   ]
  },
  {
   "cell_type": "code",
   "execution_count": null,
   "metadata": {},
   "outputs": [],
   "source": []
  }
 ],
 "metadata": {
  "kernelspec": {
   "display_name": ".venv",
   "language": "python",
   "name": "python3"
  },
  "language_info": {
   "codemirror_mode": {
    "name": "ipython",
    "version": 3
   },
   "file_extension": ".py",
   "mimetype": "text/x-python",
   "name": "python",
   "nbconvert_exporter": "python",
   "pygments_lexer": "ipython3",
   "version": "3.12.7"
  }
 },
 "nbformat": 4,
 "nbformat_minor": 2
}
